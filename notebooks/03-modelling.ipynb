{
 "cells": [
  {
   "cell_type": "code",
   "execution_count": 1,
   "id": "74373d0a-1e1d-42d8-8e82-df41c45b8453",
   "metadata": {},
   "outputs": [],
   "source": [
    "import sys\n",
    "sys.path.insert(0, '..')"
   ]
  },
  {
   "cell_type": "code",
   "execution_count": 2,
   "id": "08979d0f-32a7-4f0e-bfae-ceac7426d54c",
   "metadata": {},
   "outputs": [],
   "source": [
    "import pickle"
   ]
  },
  {
   "cell_type": "code",
   "execution_count": 3,
   "id": "1d948355-7107-4a86-8510-58545b13c79d",
   "metadata": {},
   "outputs": [],
   "source": [
    "import pandas as pd\n",
    "import numpy as np"
   ]
  },
  {
   "cell_type": "code",
   "execution_count": 4,
   "id": "da7bfc9c-5dd5-417a-80aa-f74ef66fc303",
   "metadata": {},
   "outputs": [],
   "source": [
    "import matplotlib.pyplot as plt\n",
    "import seaborn as sns"
   ]
  },
  {
   "cell_type": "code",
   "execution_count": 5,
   "id": "aea7edf7-d08a-4047-bb06-803b6edd9fbf",
   "metadata": {},
   "outputs": [],
   "source": [
    "from lightgbm import LGBMClassifier"
   ]
  },
  {
   "cell_type": "code",
   "execution_count": 6,
   "id": "34954633-fab3-485c-afb8-7ab1dd3847d1",
   "metadata": {},
   "outputs": [],
   "source": [
    "from sklearn.metrics import f1_score, recall_score, precision_score, accuracy_score\n",
    "from yellowbrick.classifier import DiscriminationThreshold"
   ]
  },
  {
   "cell_type": "code",
   "execution_count": 7,
   "id": "d1346bbd-af78-49d4-8c12-54321260a68f",
   "metadata": {},
   "outputs": [],
   "source": [
    "from sklearn.model_selection import StratifiedKFold\n",
    "from sklearn.metrics import roc_auc_score\n",
    "from sklearn.linear_model import LogisticRegression, LogisticRegressionCV\n",
    "from sklearn.pipeline import Pipeline"
   ]
  },
  {
   "cell_type": "code",
   "execution_count": 8,
   "id": "5000445a-6e7d-4cf1-b943-f49a1edc518c",
   "metadata": {},
   "outputs": [],
   "source": [
    "from sklearn.model_selection import RandomizedSearchCV"
   ]
  },
  {
   "cell_type": "code",
   "execution_count": 9,
   "id": "a68f95e6-e0a6-4ca2-9938-b9da3480fcfa",
   "metadata": {},
   "outputs": [],
   "source": [
    "# Stats\n",
    "import scipy.stats as ss\n",
    "from scipy import interp\n",
    "from scipy.stats import randint as sp_randint\n",
    "from scipy.stats import uniform as sp_uniform"
   ]
  },
  {
   "cell_type": "code",
   "execution_count": 10,
   "id": "3b40f881-e917-4a1f-9b2a-0b17262dc7e6",
   "metadata": {},
   "outputs": [],
   "source": [
    "from diabetes.reader import read_data\n",
    "from diabetes.transformers import CategoricalConverter, FeatureAdder"
   ]
  },
  {
   "cell_type": "code",
   "execution_count": 11,
   "id": "871d5008-81b0-44df-9397-8ab777e31dfd",
   "metadata": {},
   "outputs": [],
   "source": [
    "def model_metrics(X, y, model, cv, cutpoint):\n",
    "    f1_score_train = []\n",
    "    f1_score_valid = []\n",
    "    recall_train = []\n",
    "    recall_valid = []\n",
    "    precision_train = []\n",
    "    precision_valid = []\n",
    "    accuracy_train = []\n",
    "    accuracy_valid = []\n",
    "\n",
    "    for train_index, test_index in kfold.split(X, y):\n",
    "        X_train, X_test = X.iloc[train_index, :], X.iloc[test_index, :]\n",
    "        y_train, y_test = y[train_index], y[test_index]\n",
    "        model.fit(X_train, y_train)\n",
    "        train_pred = np.where(model.predict_proba(X_train)[:, 1] > cutpoint, 1, 0)\n",
    "        valid_pred = np.where(model.predict_proba(X_test)[:, 1] > cutpoint, 1, 0)\n",
    "        \n",
    "        f1_score_train.append(f1_score(y_train, train_pred))\n",
    "        f1_score_valid.append(f1_score(y_test, valid_pred))\n",
    "        \n",
    "        recall_train.append(recall_score(y_train, train_pred))\n",
    "        recall_valid.append(recall_score(y_test, valid_pred))\n",
    "\n",
    "        precision_train.append(precision_score(y_train, train_pred))\n",
    "        precision_valid.append(precision_score(y_test, valid_pred))\n",
    "\n",
    "        accuracy_train.append(accuracy_score(y_train, train_pred))\n",
    "        accuracy_valid.append(accuracy_score(y_test, valid_pred))\n",
    "\n",
    "    result = pd.DataFrame(data={\n",
    "    'metric': ['f1_score', 'recall', 'precision', 'accuracy'],\n",
    "    'value': [np.mean(f1_score_valid), np.mean(recall_valid), np.mean(precision_valid),np.mean(accuracy_valid)]})\n",
    "    result['value_perc'] = [\"{0:.2f}%\".format(val*100) for val in result['value']]\n",
    "    return result"
   ]
  },
  {
   "cell_type": "markdown",
   "id": "86310d1c-1104-4554-8c6e-ec5650af3ee3",
   "metadata": {},
   "source": [
    "## Read data"
   ]
  },
  {
   "cell_type": "code",
   "execution_count": 12,
   "id": "35341aac-2779-446b-bdd9-06497762a0d7",
   "metadata": {},
   "outputs": [],
   "source": [
    "data = read_data('../data/raw/diabetes_data_upload.csv')"
   ]
  },
  {
   "cell_type": "markdown",
   "id": "21076811-bb2f-4385-99a2-b6f28c620a18",
   "metadata": {},
   "source": [
    "### Data prep"
   ]
  },
  {
   "cell_type": "code",
   "execution_count": 13,
   "id": "1b998b1b-c759-4392-a71d-7a63ee3a995a",
   "metadata": {},
   "outputs": [],
   "source": [
    "pipeline = Pipeline([('FeatureAdder', FeatureAdder()), ('CategoricalConverter', CategoricalConverter())])"
   ]
  },
  {
   "cell_type": "code",
   "execution_count": 14,
   "id": "cb55d7c2-891f-4319-b0d1-251ef7413c28",
   "metadata": {},
   "outputs": [],
   "source": [
    "data = pipeline.fit_transform(data)"
   ]
  },
  {
   "cell_type": "code",
   "execution_count": 15,
   "id": "6f046916-7c94-4f3a-a464-a3eb4dd4d139",
   "metadata": {},
   "outputs": [],
   "source": [
    "X, y = data.drop('class', axis=1), data['class']"
   ]
  },
  {
   "cell_type": "markdown",
   "id": "41ff024f-abb1-482c-ae3e-c05ed0eb7b3d",
   "metadata": {},
   "source": [
    "## Baseline"
   ]
  },
  {
   "cell_type": "markdown",
   "id": "164a3843-845c-4173-bdbe-410d18f8237f",
   "metadata": {},
   "source": [
    "### Melhor parâmetro de regularização C"
   ]
  },
  {
   "cell_type": "code",
   "execution_count": 18,
   "id": "1ce490eb-269e-4804-bab9-2cf1e1e507fe",
   "metadata": {},
   "outputs": [],
   "source": [
    "kfold = StratifiedKFold(n_splits=10, shuffle=True, random_state=42)"
   ]
  },
  {
   "cell_type": "code",
   "execution_count": null,
   "id": "dedf4b8e-fec7-47b6-b3b4-183b6d610a23",
   "metadata": {},
   "outputs": [],
   "source": [
    "Cs = [1.00000000e-04, 7.74263683e-04, 5.99484250e-03, 4.64158883e-02,\n",
    "       3.59381366e-01, 2.78255940e+00, 2.15443469e+01, 1.66810054e+02,\n",
    "       1.29154967e+03, 1.00000000e+04]"
   ]
  },
  {
   "cell_type": "code",
   "execution_count": 20,
   "id": "25dcbe63-61e4-4b7e-8910-94a6083bbd93",
   "metadata": {},
   "outputs": [],
   "source": [
    "mean_train_auc = []\n",
    "mean_valid_auc = []\n",
    "std_train_auc = []\n",
    "std_valid_auc = []\n",
    "for c in Cs:\n",
    "    temp_train_auc = []\n",
    "    temp_valid_auc = []\n",
    "    for train_index, test_index in kfold.split(X, y):\n",
    "        X_train, X_test = X.iloc[train_index, :], X.iloc[test_index, :]\n",
    "        y_train, y_test = y[train_index], y[test_index]\n",
    "        reg_log = LogisticRegression(C=c, max_iter=500)\n",
    "        reg_log.fit(X_train, y_train)\n",
    "        temp_train_auc.append(roc_auc_score(y_train, reg_log.predict_proba(X_train)[:, 1]))\n",
    "        temp_valid_auc.append(roc_auc_score(y_test, reg_log.predict_proba(X_test)[:, 1]))\n",
    "    mean_train_auc.append(np.mean(temp_train_auc)) \n",
    "    std_train_auc.append(np.std(temp_train_auc))\n",
    "    \n",
    "    mean_valid_auc.append(np.mean(temp_valid_auc)) \n",
    "    std_valid_auc.append(np.std(temp_valid_auc))\n",
    "idx = np.argmax(mean_valid_auc)\n",
    "mean_auc, std_auc = mean_valid_auc[idx], std_valid_auc[idx]"
   ]
  },
  {
   "cell_type": "code",
   "execution_count": null,
   "id": "362782bc-3c1b-4ddc-b1c6-d2f450e4dcab",
   "metadata": {},
   "outputs": [],
   "source": [
    "print(f'Best C {Cs[idx]} with mean auc {mean_auc} ± {std_auc}')\n",
    "C = Cs[idx]"
   ]
  },
  {
   "cell_type": "code",
   "execution_count": 23,
   "id": "e437b767-fde9-4c3a-80c5-8107f8357995",
   "metadata": {},
   "outputs": [
    {
     "name": "stdout",
     "output_type": "stream",
     "text": [
      "Best C 2.7825594 with Validation AUC of 0.9784375000000001 ± 0.011730202736952189\n"
     ]
    }
   ],
   "source": [
    "print(f'Best C {Cs[idx]} with Validation AUC of {mean_auc} ± {std_auc}')"
   ]
  },
  {
   "cell_type": "markdown",
   "id": "37d5cc77-945a-45cc-ba27-f1803ac902d9",
   "metadata": {
    "tags": []
   },
   "source": [
    "### Best features using permutation importance"
   ]
  },
  {
   "cell_type": "code",
   "execution_count": 24,
   "id": "aea0202c-f844-4b79-ba3d-8b24bff39350",
   "metadata": {},
   "outputs": [],
   "source": [
    "from sklearn.inspection import permutation_importance\n",
    "from sklearn.model_selection import train_test_split"
   ]
  },
  {
   "cell_type": "code",
   "execution_count": 25,
   "id": "9380762c-b868-4fcd-bddc-bd58e98be17f",
   "metadata": {},
   "outputs": [
    {
     "data": {
      "text/plain": [
       "LogisticRegression(C=2.7825594, max_iter=500)"
      ]
     },
     "execution_count": 25,
     "metadata": {},
     "output_type": "execute_result"
    }
   ],
   "source": [
    "X_train, X_val, y_train, y_val = train_test_split(X, y, test_size=0.2, shuffle=True, random_state=42)\n",
    "reg_log = LogisticRegression(C=C, max_iter=500)\n",
    "reg_log.fit(X_train, y_train)"
   ]
  },
  {
   "cell_type": "code",
   "execution_count": 26,
   "id": "67ec82cd-be41-4321-a8bf-873a5ee6bccf",
   "metadata": {},
   "outputs": [
    {
     "name": "stdout",
     "output_type": "stream",
     "text": [
      "prop_main_symptoms_3 0.063 ± 0.018\n",
      "gender   0.057 ± 0.013\n",
      "prop_main_symptoms_6 0.047 ± 0.015\n",
      "itching  0.016 ± 0.006\n",
      "irritability 0.015 ± 0.008\n",
      "sudden_weight_loss 0.014 ± 0.004\n",
      "polydipsia 0.012 ± 0.006\n",
      "polyuria 0.009 ± 0.005\n",
      "genital_thrush 0.005 ± 0.005\n",
      "age      0.005 ± 0.004\n",
      "visual_blurring 0.004 ± 0.004\n",
      "partial_paresis 0.003 ± 0.002\n",
      "delayed_healing 0.003 ± 0.003\n",
      "obesity  0.003 ± 0.001\n",
      "weakness 0.002 ± 0.003\n",
      "muscle_stiffness 0.001 ± 0.002\n",
      "is_female_with_peak_age 0.000 ± 0.001\n",
      "alopecia -0.000 ± 0.000\n",
      "polyphagia -0.000 ± 0.002\n"
     ]
    }
   ],
   "source": [
    "r = permutation_importance(reg_log, X_val, y_val,\n",
    "                            n_repeats=30,\n",
    "                            scoring='roc_auc',\n",
    "                            random_state=42)\n",
    "\n",
    "cols = []\n",
    "mean_value = []\n",
    "for i in r.importances_mean.argsort()[::-1]:\n",
    "        cols.append(X.columns[i])\n",
    "        mean_value.append(r.importances_mean[i])\n",
    "        print(f\"{X.columns[i]:<8} \"\n",
    "              f\"{r.importances_mean[i]:.3f}\"\n",
    "              f\" ± {r.importances_std[i]:.3f}\")"
   ]
  },
  {
   "cell_type": "code",
   "execution_count": 27,
   "id": "c738593b-2945-4e44-b302-755671b9d022",
   "metadata": {},
   "outputs": [
    {
     "name": "stderr",
     "output_type": "stream",
     "text": [
      "findfont: Font family ['sans-serif'] not found. Falling back to DejaVu Sans.\n",
      "findfont: Generic family 'sans-serif' not found because none of the following families were found: Arial, Liberation Sans, Bitstream Vera Sans, sans-serif\n"
     ]
    },
    {
     "data": {
      "image/png": "[encoded data removed]",
      "text/plain": [
       "<Figure size 842.4x595.44 with 1 Axes>"
      ]
     },
     "metadata": {},
     "output_type": "display_data"
    }
   ],
   "source": [
    "fig, ax = plt.subplots()\n",
    "fig.set_size_inches(11.7, 8.27)\n",
    "sns.barplot(x=mean_value, y=cols, palette=\"Blues_d\", ax=ax)\n",
    "plt.show()"
   ]
  },
  {
   "cell_type": "markdown",
   "id": "c845337c-0c88-450c-bfb3-72359c6a3fb6",
   "metadata": {},
   "source": [
    "## Final baseline model\n",
    "* Removendo as piores cinco variáveis"
   ]
  },
  {
   "cell_type": "code",
   "execution_count": 28,
   "id": "e2fc4947-2f90-47b5-bdf3-9f633d8d5435",
   "metadata": {},
   "outputs": [],
   "source": [
    "best_columns_reglog  = cols[:-5]"
   ]
  },
  {
   "cell_type": "code",
   "execution_count": 29,
   "id": "e005bce6-0b71-4deb-ad64-7d3f0530b09a",
   "metadata": {},
   "outputs": [],
   "source": [
    "train_auc = []\n",
    "valid_auc = []\n",
    "for train_index, test_index in kfold.split(X, y):\n",
    "    X_train, X_test = X[best_columns_reglog].iloc[train_index, :], X[best_columns_reglog].iloc[test_index, :]\n",
    "    y_train, y_test = y[train_index], y[test_index]\n",
    "    reg_log = LogisticRegression(C=C, max_iter=500)\n",
    "    reg_log.fit(X_train, y_train)\n",
    "    train_auc.append(roc_auc_score(y_train, reg_log.predict_proba(X_train)[:, 1]))\n",
    "    valid_auc.append(roc_auc_score(y_test, reg_log.predict_proba(X_test)[:, 1]))\n",
    "mean_train_auc = np.mean(train_auc)\n",
    "std_train_auc = np.std(train_auc)\n",
    "\n",
    "mean_valid_auc = np.mean(valid_auc)\n",
    "std_valid_auc = np.std(valid_auc)"
   ]
  },
  {
   "cell_type": "code",
   "execution_count": 30,
   "id": "6053838b-cba0-4d14-bb24-e2f2c96f76e1",
   "metadata": {},
   "outputs": [
    {
     "name": "stdout",
     "output_type": "stream",
     "text": [
      "Training AUC 0.9801967592592593 ± 0.0013675650001674147\n"
     ]
    }
   ],
   "source": [
    "print(f'Training AUC {mean_train_auc} ± {std_train_auc}')"
   ]
  },
  {
   "cell_type": "code",
   "execution_count": 31,
   "id": "e1030490-13dd-4368-b34b-17e7875e0de2",
   "metadata": {},
   "outputs": [
    {
     "name": "stdout",
     "output_type": "stream",
     "text": [
      "K-Fold AUC 0.9764062499999999 ± 0.012968750000000013\n"
     ]
    }
   ],
   "source": [
    "print(f'K-Fold AUC {mean_valid_auc} ± {std_valid_auc}')"
   ]
  },
  {
   "cell_type": "code",
   "execution_count": 32,
   "id": "a7549c5a-7b4f-4d78-80d4-eccc51151ada",
   "metadata": {},
   "outputs": [
    {
     "name": "stderr",
     "output_type": "stream",
     "text": [
      "findfont: Font family ['sans-serif'] not found. Falling back to DejaVu Sans.\n",
      "findfont: Generic family 'sans-serif' not found because none of the following families were found: Arial, Liberation Sans, Bitstream Vera Sans, sans-serif\n",
      "findfont: Font family ['sans-serif'] not found. Falling back to DejaVu Sans.\n",
      "findfont: Generic family 'sans-serif' not found because none of the following families were found: Arial, Liberation Sans, Bitstream Vera Sans, sans-serif\n"
     ]
    },
    {
     "data": {
      "image/png": "[encoded data removed]",
      "text/plain": [
       "<Figure size 576x396 with 1 Axes>"
      ]
     },
     "metadata": {},
     "output_type": "display_data"
    },
    {
     "data": {
      "text/plain": [
       "<AxesSubplot:title={'center':'Threshold Plot for LogisticRegression'}, xlabel='discrimination threshold', ylabel='score'>"
      ]
     },
     "execution_count": 32,
     "metadata": {},
     "output_type": "execute_result"
    }
   ],
   "source": [
    "reg_log = LogisticRegression(C=C, max_iter=500)\n",
    "visualizer = DiscriminationThreshold(reg_log, cv=kfold)\n",
    "visualizer.fit(X[best_columns_reglog], y)        # Fit the data to the visualizer\n",
    "visualizer.show()  "
   ]
  },
  {
   "cell_type": "code",
   "execution_count": 33,
   "id": "60fa5561-88f2-4bc8-9507-fe8e3240f270",
   "metadata": {},
   "outputs": [],
   "source": [
    "cutpoint_reglog = 0.45"
   ]
  },
  {
   "cell_type": "code",
   "execution_count": 34,
   "id": "273e3ba0-d298-488d-9c81-736b728aaf37",
   "metadata": {},
   "outputs": [],
   "source": [
    "result_reg_log = model_metrics(X[best_columns_reglog], y, reg_log, kfold, cutpoint_reglog)"
   ]
  },
  {
   "cell_type": "code",
   "execution_count": 35,
   "id": "5d0f38f6-3da7-4df8-a886-9834ca006b4e",
   "metadata": {},
   "outputs": [
    {
     "data": {
      "text/html": [
       "<div>\n",
       "<style scoped>\n",
       "    .dataframe tbody tr th:only-of-type {\n",
       "        vertical-align: middle;\n",
       "    }\n",
       "\n",
       "    .dataframe tbody tr th {\n",
       "        vertical-align: top;\n",
       "    }\n",
       "\n",
       "    .dataframe thead th {\n",
       "        text-align: right;\n",
       "    }\n",
       "</style>\n",
       "<table border=\"1\" class=\"dataframe\">\n",
       "  <thead>\n",
       "    <tr style=\"text-align: right;\">\n",
       "      <th></th>\n",
       "      <th>metric</th>\n",
       "      <th>value</th>\n",
       "      <th>value_perc</th>\n",
       "    </tr>\n",
       "  </thead>\n",
       "  <tbody>\n",
       "    <tr>\n",
       "      <th>0</th>\n",
       "      <td>f1_score</td>\n",
       "      <td>0.946977</td>\n",
       "      <td>94.70%</td>\n",
       "    </tr>\n",
       "    <tr>\n",
       "      <th>1</th>\n",
       "      <td>recall</td>\n",
       "      <td>0.946875</td>\n",
       "      <td>94.69%</td>\n",
       "    </tr>\n",
       "    <tr>\n",
       "      <th>2</th>\n",
       "      <td>precision</td>\n",
       "      <td>0.949637</td>\n",
       "      <td>94.96%</td>\n",
       "    </tr>\n",
       "    <tr>\n",
       "      <th>3</th>\n",
       "      <td>accuracy</td>\n",
       "      <td>0.934615</td>\n",
       "      <td>93.46%</td>\n",
       "    </tr>\n",
       "  </tbody>\n",
       "</table>\n",
       "</div>"
      ],
      "text/plain": [
       "      metric     value value_perc\n",
       "0   f1_score  0.946977     94.70%\n",
       "1     recall  0.946875     94.69%\n",
       "2  precision  0.949637     94.96%\n",
       "3   accuracy  0.934615     93.46%"
      ]
     },
     "execution_count": 35,
     "metadata": {},
     "output_type": "execute_result"
    }
   ],
   "source": [
    "result_reg_log"
   ]
  },
  {
   "cell_type": "markdown",
   "id": "73c8a169-c9d8-4285-86ac-23f746307e27",
   "metadata": {},
   "source": [
    "## Boosting"
   ]
  },
  {
   "cell_type": "code",
   "execution_count": 36,
   "id": "9d1a5572-d388-4c4a-93e0-f4776ec6aa98",
   "metadata": {},
   "outputs": [
    {
     "name": "stdout",
     "output_type": "stream",
     "text": [
      "Fitting 10 folds for each of 300 candidates, totalling 3000 fits\n"
     ]
    }
   ],
   "source": [
    "param_test = {'learning_rate' : [0.01, 0.02, 0.03, 0.04, 0.05, 0.08, 0.1, 0.2, 0.3, 0.4],\n",
    "              'n_estimators' : [100, 200, 300, 400, 500, ],\n",
    "              'num_leaves': sp_randint(6, 50), \n",
    "              'min_child_samples': sp_randint(100, 500), \n",
    "              'min_child_weight': [1e-5, 1e-3, 1e-2, 1e-1, 1, 1e1, 1e2, 1e3, 1e4],\n",
    "              'subsample': sp_uniform(loc=0.2, scale=0.8), \n",
    "              'max_depth': [1, 2, 3, 4, 5, 6, 7],\n",
    "              'colsample_bytree': sp_uniform(loc=0.4, scale=0.6),\n",
    "              'reg_alpha': [0, 1e-1, 1, 2, 5, 7, 10, 50, 100],\n",
    "              'reg_lambda': [0, 1e-1, 1, 5, 10, 20, 50, 100]}\n",
    "\n",
    "n_iter = 300\n",
    "lgb_model = LGBMClassifier(random_state=42, n_jobs=4)\n",
    "grid_search = RandomizedSearchCV(\n",
    "    estimator=lgb_model, \n",
    "    param_distributions=param_test, \n",
    "    n_iter=n_iter,\n",
    "    scoring='roc_auc',\n",
    "    cv=kfold,\n",
    "    refit=True,\n",
    "    random_state=42,\n",
    "    verbose=True)\n",
    "\n",
    "grid_search.fit(X, y)\n",
    "opt_parameters =  grid_search.best_params_"
   ]
  },
  {
   "cell_type": "code",
   "execution_count": 37,
   "id": "3a847229-fdaa-4f11-8df7-60fd2295299f",
   "metadata": {},
   "outputs": [],
   "source": [
    "train_auc = []\n",
    "valid_auc = []\n",
    "for train_index, test_index in kfold.split(X, y):\n",
    "    X_train, X_test = X.iloc[train_index, :], X.iloc[test_index, :]\n",
    "    y_train, y_test = y[train_index], y[test_index]\n",
    "    lgb_model = LGBMClassifier(**opt_parameters)\n",
    "    lgb_model.fit(X_train, y_train)\n",
    "    train_auc.append(roc_auc_score(y_train, lgb_model.predict_proba(X_train)[:, 1]))\n",
    "    valid_auc.append(roc_auc_score(y_test, lgb_model.predict_proba(X_test)[:, 1]))\n",
    "mean_train_auc = np.mean(train_auc)\n",
    "std_train_auc = np.std(train_auc)\n",
    "\n",
    "mean_valid_auc = np.mean(valid_auc)\n",
    "std_valid_auc = np.std(valid_auc)"
   ]
  },
  {
   "cell_type": "code",
   "execution_count": 38,
   "id": "440a1ba4-f47c-402a-813f-132d782871c8",
   "metadata": {},
   "outputs": [
    {
     "name": "stdout",
     "output_type": "stream",
     "text": [
      "Training AUC 0.9865335648148147 ± 0.002124397045566824\n"
     ]
    }
   ],
   "source": [
    "print(f'Training AUC {mean_train_auc} ± {std_train_auc}')"
   ]
  },
  {
   "cell_type": "code",
   "execution_count": 39,
   "id": "fe5d1fd5-0e73-4318-8155-a51148da697a",
   "metadata": {},
   "outputs": [
    {
     "name": "stdout",
     "output_type": "stream",
     "text": [
      "K-Fold AUC 0.9785937500000002 ± 0.00937630199292347\n"
     ]
    }
   ],
   "source": [
    "print(f'K-Fold AUC {mean_valid_auc} ± {std_valid_auc}')"
   ]
  },
  {
   "cell_type": "code",
   "execution_count": 40,
   "id": "6070a19e-5dca-4e1b-bf24-6c8b974a68df",
   "metadata": {},
   "outputs": [
    {
     "data": {
      "text/plain": [
       "LGBMClassifier(colsample_bytree=0.9806196329242519, learning_rate=0.08,\n",
       "               max_depth=2, min_child_samples=111, min_child_weight=0.01,\n",
       "               n_estimators=500, num_leaves=49, reg_alpha=0, reg_lambda=10,\n",
       "               subsample=0.8320108470334848)"
      ]
     },
     "execution_count": 40,
     "metadata": {},
     "output_type": "execute_result"
    }
   ],
   "source": [
    "X_train, X_val, y_train, y_val = train_test_split(X, y, test_size=0.2, shuffle=True, random_state=42)\n",
    "lgb_model = LGBMClassifier(**opt_parameters)\n",
    "lgb_model.fit(X_train, y_train)"
   ]
  },
  {
   "cell_type": "code",
   "execution_count": 41,
   "id": "82f56cba-7554-494b-a432-b30bad9dc6d8",
   "metadata": {},
   "outputs": [
    {
     "name": "stdout",
     "output_type": "stream",
     "text": [
      "prop_main_symptoms_3 0.071 ± 0.017\n",
      "gender   0.043 ± 0.011\n",
      "polyuria 0.021 ± 0.010\n",
      "prop_main_symptoms_6 0.012 ± 0.008\n",
      "itching  0.009 ± 0.004\n",
      "polydipsia 0.009 ± 0.003\n",
      "age      0.007 ± 0.007\n",
      "partial_paresis 0.006 ± 0.003\n",
      "delayed_healing 0.005 ± 0.005\n",
      "alopecia 0.004 ± 0.003\n",
      "visual_blurring 0.003 ± 0.002\n",
      "weakness 0.002 ± 0.005\n",
      "muscle_stiffness 0.001 ± 0.002\n",
      "irritability 0.000 ± 0.000\n",
      "genital_thrush 0.000 ± 0.000\n",
      "polyphagia 0.000 ± 0.000\n",
      "sudden_weight_loss 0.000 ± 0.000\n",
      "obesity  0.000 ± 0.000\n",
      "is_female_with_peak_age 0.000 ± 0.000\n"
     ]
    }
   ],
   "source": [
    "r = permutation_importance(lgb_model, X_val, y_val,\n",
    "                            n_repeats=30,\n",
    "                            scoring='roc_auc',\n",
    "                            random_state=42)\n",
    "\n",
    "cols = []\n",
    "mean_value = []\n",
    "for i in r.importances_mean.argsort()[::-1]:\n",
    "        cols.append(X.columns[i])\n",
    "        mean_value.append(r.importances_mean[i])\n",
    "        print(f\"{X.columns[i]:<8} \"\n",
    "              f\"{r.importances_mean[i]:.3f}\"\n",
    "              f\" ± {r.importances_std[i]:.3f}\")"
   ]
  },
  {
   "cell_type": "code",
   "execution_count": 42,
   "id": "975da07a-880e-45ae-9cac-3b847fe7224e",
   "metadata": {},
   "outputs": [
    {
     "data": {
      "image/png": "[encoded data removed]",
      "text/plain": [
       "<Figure size 842.4x595.44 with 1 Axes>"
      ]
     },
     "metadata": {},
     "output_type": "display_data"
    }
   ],
   "source": [
    "fig, ax = plt.subplots()\n",
    "fig.set_size_inches(11.7, 8.27)\n",
    "sns.barplot(x=mean_value, y=cols, palette=\"Blues_d\", ax=ax)\n",
    "plt.show()"
   ]
  },
  {
   "cell_type": "code",
   "execution_count": 43,
   "id": "721fcde4-0910-4ce1-b540-2ca0d3ef9fd0",
   "metadata": {},
   "outputs": [],
   "source": [
    "best_columns_lgb  = cols[:-5]"
   ]
  },
  {
   "cell_type": "code",
   "execution_count": 44,
   "id": "57a8c824-53b3-411c-918b-fe742945f739",
   "metadata": {},
   "outputs": [
    {
     "name": "stdout",
     "output_type": "stream",
     "text": [
      "Training AUC 0.98555362654321 ± 0.002101321412747157\n",
      "K-Fold AUC 0.9793749999999999 ± 0.011413738979843581\n"
     ]
    }
   ],
   "source": [
    "train_auc = []\n",
    "valid_auc = []\n",
    "for train_index, test_index in kfold.split(X, y):\n",
    "    X_train, X_test = X[best_columns_lgb].iloc[train_index, :], X[best_columns_lgb].iloc[test_index, :]\n",
    "    y_train, y_test = y[train_index], y[test_index]\n",
    "    lgb_model = LGBMClassifier(**opt_parameters)\n",
    "    lgb_model.fit(X_train, y_train)\n",
    "    train_auc.append(roc_auc_score(y_train, lgb_model.predict_proba(X_train)[:, 1]))\n",
    "    valid_auc.append(roc_auc_score(y_test, lgb_model.predict_proba(X_test)[:, 1]))\n",
    "mean_train_auc = np.mean(train_auc)\n",
    "std_train_auc = np.std(train_auc)\n",
    "\n",
    "mean_valid_auc = np.mean(valid_auc)\n",
    "std_valid_auc = np.std(valid_auc)\n",
    "print(f'Training AUC {mean_train_auc} ± {std_train_auc}')\n",
    "print(f'K-Fold AUC {mean_valid_auc} ± {std_valid_auc}')"
   ]
  },
  {
   "cell_type": "markdown",
   "id": "856effc2-b740-4d19-aa00-92a64a05ce0e",
   "metadata": {},
   "source": [
    "### Finding the best threshold"
   ]
  },
  {
   "cell_type": "code",
   "execution_count": 45,
   "id": "c323771d-45b5-4281-bd7c-7444675e3e7e",
   "metadata": {},
   "outputs": [],
   "source": [
    "lgb_model = LGBMClassifier(**opt_parameters)"
   ]
  },
  {
   "cell_type": "code",
   "execution_count": 47,
   "id": "18320473-8fe9-48d1-9f27-727857c54804",
   "metadata": {},
   "outputs": [
    {
     "data": {
      "image/png": "[encoded data removed]",
      "text/plain": [
       "<Figure size 576x396 with 1 Axes>"
      ]
     },
     "metadata": {},
     "output_type": "display_data"
    },
    {
     "data": {
      "text/plain": [
       "<AxesSubplot:title={'center':'Threshold Plot for LGBMClassifier'}, xlabel='discrimination threshold', ylabel='score'>"
      ]
     },
     "execution_count": 47,
     "metadata": {},
     "output_type": "execute_result"
    }
   ],
   "source": [
    "visualizer = DiscriminationThreshold(lgb_model, cv=kfold)\n",
    "visualizer.fit(X[best_columns_lgb], y)        # Fit the data to the visualizer\n",
    "visualizer.show()  "
   ]
  },
  {
   "cell_type": "code",
   "execution_count": 49,
   "id": "82fc409b-8003-486d-b874-23e1ed5ebcb0",
   "metadata": {},
   "outputs": [],
   "source": [
    "cutpoint_lgb = 0.47"
   ]
  },
  {
   "cell_type": "code",
   "execution_count": 51,
   "id": "09c7114f-c242-4545-a492-3ce7cc8247af",
   "metadata": {},
   "outputs": [],
   "source": [
    "result_lgb = model_metrics(X[best_columns_lgb], y, lgb_model, kfold, cutpoint_lgb)"
   ]
  },
  {
   "cell_type": "code",
   "execution_count": 52,
   "id": "3a4e40e3-ccf1-4431-b1f7-162ba976bd38",
   "metadata": {},
   "outputs": [],
   "source": [
    "import altair as alt"
   ]
  },
  {
   "cell_type": "code",
   "execution_count": 129,
   "id": "3af66076-5fb8-468b-8160-28973da5b5e8",
   "metadata": {},
   "outputs": [
    {
     "data": {
      "text/plain": [
       "RendererRegistry.enable('mimetype')"
      ]
     },
     "execution_count": 129,
     "metadata": {},
     "output_type": "execute_result"
    }
   ],
   "source": [
    "alt.renderers.enable('mimetype')"
   ]
  },
  {
   "cell_type": "code",
   "execution_count": 110,
   "id": "3daa6ffc-65cd-48c6-9268-39841aa7bafe",
   "metadata": {},
   "outputs": [],
   "source": [
    "width = 500\n",
    "height = 300\n",
    "bars_lgb = alt.Chart(result_lgb).mark_bar().encode(\n",
    "    x=alt.X('value:Q', axis=alt.Axis(format='%')),\n",
    "    y=alt.Y('metric:N'),\n",
    "    color='metric:N',\n",
    "    text=alt.Text('value:Q'),\n",
    ").properties(width=width, height=height, title='LightGBM')\n",
    "\n",
    "text_lgb = bars_lgb.mark_text(\n",
    "    align='left',\n",
    "    baseline='middle',\n",
    "    dx=3  # Nudges text to right so it doesn't appear on top of the bar\n",
    ").encode(\n",
    "    text='value_perc:N'\n",
    ")\n",
    "lgb_bar = (bars_lgb+text_lgb)"
   ]
  },
  {
   "cell_type": "code",
   "execution_count": 111,
   "id": "d41fc316-ca93-4fa1-be22-ae0d1ce6710d",
   "metadata": {},
   "outputs": [],
   "source": [
    "bars_reglog = alt.Chart(result_reg_log).mark_bar().encode(\n",
    "    x=alt.X('value:Q', axis=alt.Axis(format='%')),\n",
    "    y=alt.Y('metric:N'),\n",
    "    color='metric:N',\n",
    "    text=alt.Text('value:Q')\n",
    ").properties(width=width, height=height, title='LogisticRegression')\n",
    "text_reglog = bars_reglog.mark_text(\n",
    "    align='left',\n",
    "    baseline='middle',\n",
    "    dx=3  # Nudges text to right so it doesn't appear on top of the bar\n",
    ").encode(\n",
    "    text='value_perc:N'\n",
    ")\n",
    "reglog_bar = (bars_reglog+text_reglog)"
   ]
  },
  {
   "cell_type": "code",
   "execution_count": 130,
   "id": "65a097a1-4555-4c77-9229-20012d6b5293",
   "metadata": {},
   "outputs": [
    {
     "data": {
      "application/vnd.vegalite.v4+json": {
       "$schema": "https://vega.github.io/schema/vega-lite/v4.8.1.json",
       "config": {
        "view": {
         "continuousHeight": 300,
         "continuousWidth": 400
        }
       },
       "datasets": {
        "data-ac25fe059e6c8b86fcd8f83c3cd69a81": [
         {
          "metric": "f1_score",
          "value": 0.9406428556973904,
          "value_perc": "94.06%"
         },
         {
          "metric": "recall",
          "value": 0.9375,
          "value_perc": "93.75%"
         },
         {
          "metric": "precision",
          "value": 0.9469406381552468,
          "value_perc": "94.69%"
         },
         {
          "metric": "accuracy",
          "value": 0.926923076923077,
          "value_perc": "92.69%"
         }
        ],
        "data-e7fd2f036f322e5a577fffd78eac7d07": [
         {
          "metric": "f1_score",
          "value": 0.9469768277721418,
          "value_perc": "94.70%"
         },
         {
          "metric": "recall",
          "value": 0.946875,
          "value_perc": "94.69%"
         },
         {
          "metric": "precision",
          "value": 0.9496373499599307,
          "value_perc": "94.96%"
         },
         {
          "metric": "accuracy",
          "value": 0.9346153846153846,
          "value_perc": "93.46%"
         }
        ]
       },
       "hconcat": [
        {
         "data": {
          "name": "data-e7fd2f036f322e5a577fffd78eac7d07"
         },
         "layer": [
          {
           "encoding": {
            "color": {
             "field": "metric",
             "type": "nominal"
            },
            "text": {
             "field": "value",
             "type": "quantitative"
            },
            "x": {
             "axis": {
              "format": "%"
             },
             "field": "value",
             "type": "quantitative"
            },
            "y": {
             "field": "metric",
             "type": "nominal"
            }
           },
           "height": 300,
           "mark": "bar",
           "title": "LogisticRegression",
           "width": 500
          },
          {
           "encoding": {
            "color": {
             "field": "metric",
             "type": "nominal"
            },
            "text": {
             "field": "value_perc",
             "type": "nominal"
            },
            "x": {
             "axis": {
              "format": "%"
             },
             "field": "value",
             "type": "quantitative"
            },
            "y": {
             "field": "metric",
             "type": "nominal"
            }
           },
           "height": 300,
           "mark": {
            "align": "left",
            "baseline": "middle",
            "dx": 3,
            "type": "text"
           },
           "title": "LogisticRegression",
           "width": 500
          }
         ]
        },
        {
         "data": {
          "name": "data-ac25fe059e6c8b86fcd8f83c3cd69a81"
         },
         "layer": [
          {
           "encoding": {
            "color": {
             "field": "metric",
             "type": "nominal"
            },
            "text": {
             "field": "value",
             "type": "quantitative"
            },
            "x": {
             "axis": {
              "format": "%"
             },
             "field": "value",
             "type": "quantitative"
            },
            "y": {
             "field": "metric",
             "type": "nominal"
            }
           },
           "height": 300,
           "mark": "bar",
           "title": "LightGBM",
           "width": 500
          },
          {
           "encoding": {
            "color": {
             "field": "metric",
             "type": "nominal"
            },
            "text": {
             "field": "value_perc",
             "type": "nominal"
            },
            "x": {
             "axis": {
              "format": "%"
             },
             "field": "value",
             "type": "quantitative"
            },
            "y": {
             "field": "metric",
             "type": "nominal"
            }
           },
           "height": 300,
           "mark": {
            "align": "left",
            "baseline": "middle",
            "dx": 3,
            "type": "text"
           },
           "title": "LightGBM",
           "width": 500
          }
         ]
        }
       ]
      },
      "image/png": "[encoded data removed]",
      "text/plain": [
       "<VegaLite 4 object>\n",
       "\n",
       "If you see this message, it means the renderer has not been properly enabled\n",
       "for the frontend that you are using. For more information, see\n",
       "https://altair-viz.github.io/user_guide/troubleshooting.html\n"
      ]
     },
     "execution_count": 130,
     "metadata": {},
     "output_type": "execute_result"
    }
   ],
   "source": [
    "reglog_bar | lgb_bar"
   ]
  },
  {
   "cell_type": "markdown",
   "id": "93776dd7-7c0b-4a24-b881-21bf4ea6b33c",
   "metadata": {},
   "source": [
    "### Escolha do modelo\n",
    "\n",
    "Basicamente a performance dos dois modelos é a mesma nas pastas de validação. Nesses casos é boa prática selecionar o modelo mais simples  - menor variância das estimativas. Isso faz com que a regressão logística seja um modelo mais robusto a longo prazo. Além disso, a interpretação da regressão logística é bastante intuitiva, enquanto um modelo de boosting teríamos que usar ferramentas como o SHAP. \n",
    "\n",
    "Talvez deveríamos volta a etapa de feature engineering para criarmos mais variáveis que ajudem a aumentar a performance dos modelos. Não me parece, dado ao empate entre o boosting e a regressão logística, que modelos mais complexos vão trazer mais ganhos."
   ]
  },
  {
   "cell_type": "code",
   "execution_count": 126,
   "id": "62817a09-01a0-4d37-8d64-a117084ab41c",
   "metadata": {},
   "outputs": [
    {
     "data": {
      "text/plain": [
       "LogisticRegression(C=2.7825594, max_iter=500)"
      ]
     },
     "execution_count": 126,
     "metadata": {},
     "output_type": "execute_result"
    }
   ],
   "source": [
    "# salvando o objeto com a regressão logistica\n",
    "final_model = LogisticRegression(C=C, max_iter=500)\n",
    "final_model.fit(X[best_columns_reglog], y)"
   ]
  },
  {
   "cell_type": "code",
   "execution_count": 127,
   "id": "402f4595-35c3-4dbe-980a-a3f76fda5545",
   "metadata": {},
   "outputs": [],
   "source": [
    "model_obj = {\n",
    "'model': final_model,\n",
    "'best_c': c,\n",
    "'transformers': pipeline,\n",
    "'cutpoint': cutpoint_reglog,\n",
    "'columns': best_columns_reglog\n",
    "}"
   ]
  },
  {
   "cell_type": "code",
   "execution_count": 128,
   "id": "cfd291ae-079e-4aba-a5e7-22ff440725cb",
   "metadata": {},
   "outputs": [],
   "source": [
    "with open('../models/final_model.pkl', 'wb') as f:\n",
    "    f.write(pickle.dumps(model_obj))"
   ]
  }
 ],
 "metadata": {
  "kernelspec": {
   "display_name": "Python 3 (ipykernel)",
   "language": "python",
   "name": "python3"
  },
  "language_info": {
   "codemirror_mode": {
    "name": "ipython",
    "version": 3
   },
   "file_extension": ".py",
   "mimetype": "text/x-python",
   "name": "python",
   "nbconvert_exporter": "python",
   "pygments_lexer": "ipython3",
   "version": "3.9.6"
  }
 },
 "nbformat": 4,
 "nbformat_minor": 5
}
